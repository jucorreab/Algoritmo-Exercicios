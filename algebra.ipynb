{
  "nbformat": 4,
  "nbformat_minor": 0,
  "metadata": {
    "colab": {
      "provenance": [],
      "authorship_tag": "ABX9TyMdtHRf9pYIQ8w3MNBS8UY4",
      "include_colab_link": true
    },
    "kernelspec": {
      "name": "python3",
      "display_name": "Python 3"
    },
    "language_info": {
      "name": "python"
    }
  },
  "cells": [
    {
      "cell_type": "markdown",
      "metadata": {
        "id": "view-in-github",
        "colab_type": "text"
      },
      "source": [
        "<a href=\"https://colab.research.google.com/github/jucorreab/Algoritmo-Exercicios/blob/main/algebra.ipynb\" target=\"_parent\"><img src=\"https://colab.research.google.com/assets/colab-badge.svg\" alt=\"Open In Colab\"/></a>"
      ]
    },
    {
      "cell_type": "code",
      "execution_count": 10,
      "metadata": {
        "colab": {
          "base_uri": "https://localhost:8080/"
        },
        "id": "zsXcteY1-97p",
        "outputId": "eef77899-ae0a-4d4e-814d-d1d65cb30473"
      },
      "outputs": [
        {
          "output_type": "stream",
          "name": "stdout",
          "text": [
            "Matriz Original M:\n",
            " [[5 4 2 1]\n",
            " [4 5 3 2]\n",
            " [2 3 5 4]\n",
            " [1 2 4 5]]\n",
            "\n",
            "Autovalores:\n",
            " [13.1 5.2 0.9 0.8]\n",
            "\n",
            "Autovetores (Matriz A):\n",
            " [[0.5 0.6 0.5 -0.4]\n",
            " [0.5 0.4 -0.5 0.6]\n",
            " [0.5 -0.4 -0.5 -0.6]\n",
            " [0.5 -0.6 0.5 0.4]]\n",
            "\n",
            "Matriz Diagonal D:\n",
            " [[13.1 0.0 0.0 0.0]\n",
            " [0.0 5.2 0.0 0.0]\n",
            " [0.0 0.0 0.9 0.0]\n",
            " [0.0 0.0 0.0 0.8]]\n",
            "\n",
            "Verificação (V ≈ A * D * A^-1):\n",
            " [[5 4 2 1]\n",
            " [4 5 3 2]\n",
            " [2 3 5 4]\n",
            " [1 2 4 5]]\n"
          ]
        }
      ],
      "source": [
        "import numpy as np\n",
        "\n",
        "M = np.array([\n",
        "    [5, 4, 2, 1],\n",
        "    [4, 5, 3, 2],\n",
        "    [2, 3, 5, 4],\n",
        "    [1, 2, 4, 5]\n",
        "])\n",
        "\n",
        "autovalores, autovetores = np.linalg.eig(M)\n",
        "\n",
        "D = np.diag(autovalores)\n",
        "A = autovetores\n",
        "\n",
        "V_diag = A @ D @ np.linalg.inv(A)\n",
        "\n",
        "print(\"Matriz Original M:\\n\", M)\n",
        "print(\"\\nAutovalores:\\n\", np.round(autovalores, 2))\n",
        "print(\"\\nAutovetores (Matriz A):\\n\", np.round(A, 2))\n",
        "print(\"\\nMatriz Diagonal D:\\n\", np.round(D, 2))\n",
        "print(\"\\nVerificação (V ≈ A * D * A^-1):\\n\", np.round(V_diag).astype(int))"
      ]
    },
    {
      "cell_type": "markdown",
      "source": [],
      "metadata": {
        "id": "5BIzteKxD3Rv"
      }
    },
    {
      "cell_type": "code",
      "source": [],
      "metadata": {
        "id": "1YaXmgF4D4cD"
      },
      "execution_count": null,
      "outputs": []
    }
  ]
}